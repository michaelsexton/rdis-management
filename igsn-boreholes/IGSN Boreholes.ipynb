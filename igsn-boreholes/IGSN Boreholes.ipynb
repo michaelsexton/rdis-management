{
 "cells": [
  {
   "cell_type": "code",
   "execution_count": 1,
   "metadata": {
    "collapsed": true
   },
   "outputs": [],
   "source": [
    "import os\n",
    "import pandas as pd\n",
    "import yaml\n",
    "import cx_Oracle\n",
    "import math\n",
    "import Levenshtein\n",
    "from collections import defaultdict"
   ]
  },
  {
   "cell_type": "code",
   "execution_count": 2,
   "metadata": {
    "collapsed": true
   },
   "outputs": [],
   "source": [
    "from helpers import bmr, cbac"
   ]
  },
  {
   "cell_type": "code",
   "execution_count": 3,
   "metadata": {
    "collapsed": true
   },
   "outputs": [],
   "source": [
    "with open('../../database.yml', 'r') as stream:\n",
    "    credentials = yaml.load(stream)\n",
    "\n",
    "login = credentials['production']\n",
    "\n",
    "connection = cx_Oracle.connect(**login)"
   ]
  },
  {
   "cell_type": "code",
   "execution_count": null,
   "metadata": {
    "collapsed": true
   },
   "outputs": [],
   "source": [
    "sheet_params = [\n",
    "    {\n",
    "        'sheet_name' : 'NSW',\n",
    "        'name_field' : 'NAME',\n",
    "        'coords' : ['LONG_GDA94','LAT_GDA94'],\n",
    "        'string_functions' : [cbac, bmr]\n",
    "    },{\n",
    "        'sheet_name' : 'NT',\n",
    "        'name_field' : 'NAME',\n",
    "        'coords' : ['LONGITUDE','LATITUDE'],\n",
    "        'string_functions' : bmr\n",
    "    },{\n",
    "        'sheet_name' : 'QLD',\n",
    "        'name_field' : 'NAME',\n",
    "        'coords' : ['LONG_GDA94','LAT_GDA_94'],\n",
    "        'string_functions' : bmr\n",
    "    },{\n",
    "        'sheet_name' : 'SA',\n",
    "        'name_field' : 'NAME',\n",
    "        'coords' : ['LONG','LAT'],\n",
    "        'string_functions' : None\n",
    "    },{\n",
    "        'sheet_name' : 'VIC (from GA\\'s database)',\n",
    "        'name_field' : 'GSV_NAME',\n",
    "        'coords' : ['GDA94_LONGITUDE','GDA94_LATITUDE'],\n",
    "        'string_functions' : None\n",
    "    },{\n",
    "        'sheet_name' : 'WA',\n",
    "        'name_field' : 'NAME',\n",
    "        'coords' : ['LONG_GDA94','LAT_GDA94'],\n",
    "        'string_functions' : None\n",
    "    }\n",
    "]"
   ]
  },
  {
   "cell_type": "code",
   "execution_count": null,
   "metadata": {
    "collapsed": true
   },
   "outputs": [],
   "source": [
    "excel = pd.ExcelFile('data/IGSN_STRAT_drillholes.xlsx')"
   ]
  },
  {
   "cell_type": "code",
   "execution_count": null,
   "metadata": {
    "collapsed": true
   },
   "outputs": [],
   "source": [
    "def find_nearby_holes(long, lat):\n",
    "    if math.isnan(long) or math.isnan(lat):\n",
    "        return pd.DataFrame()\n",
    "    sql = '''select b.borehole_id, b.borehole_name,\n",
    "                b.location.sdo_point.x as longitude, b.location.sdo_point.y as latitude,\n",
    "                lubt.text as borehole_type,\n",
    "                cast(sdo_geom.sdo_distance(b.location,SDO_GEOMETRY(2001,4283,MDSYS.SDO_POINT_TYPE({0}, {1},NULL),NULL,NULL),\n",
    "                  10, 'unit=M') as number(5)) as distance\n",
    "                from BOREHOLE.BOREHOLES b\n",
    "                left outer join borehole.borehole_types bt on bt.BOREHOLE_ID = b.BOREHOLE_ID\n",
    "                left outer join borehole.lu_borehole_types lubt on lubt.bh_type_code = bt.bh_type_code\n",
    "                where sdo_within_distance(b.location,\n",
    "                    SDO_GEOMETRY(2001,4283,MDSYS.SDO_POINT_TYPE({0}, {1}, NULL),NULL,NULL),\n",
    "                    \\'distance=500\\') = \\'TRUE\\''''\n",
    "    return pd.read_sql(sql.format(long, lat), connection)"
   ]
  },
  {
   "cell_type": "code",
   "execution_count": null,
   "metadata": {
    "collapsed": true
   },
   "outputs": [],
   "source": [
    "def edit_distance(left, right, fn=None):\n",
    "    '''Takes two strings and returns the edit distance as a Levenshtein ratio.\n",
    "    If a function or list of functions are supplied it iterates through each and\n",
    "    returns the maximum ratio'''\n",
    "    ratio = Levenshtein.ratio(left, right)\n",
    "    values = [ratio]\n",
    "    if fn is None:\n",
    "        return ratio\n",
    "    \n",
    "    if isinstance(fn, list):\n",
    "        for f in fn:\n",
    "            values.append(f(left, right))\n",
    "    else:\n",
    "        values.append(fn(left, right))\n",
    "    return max(values)"
   ]
  },
  {
   "cell_type": "code",
   "execution_count": null,
   "metadata": {
    "collapsed": true
   },
   "outputs": [],
   "source": [
    "def process_data(df, coords, name_field, fn = None):\n",
    "    result_set = defaultdict(list)\n",
    "    \n",
    "    for i, row in enumerate(df.itertuples()):\n",
    "        if i != 0 and i % 100 == 0:\n",
    "            print(\"{0} rows processed \".format(i))\n",
    "        \n",
    "        long, lat = getattr(row, coords[0]), getattr(row, coords[1])\n",
    "        frame = find_nearby_holes(long, lat)\n",
    "        \n",
    "        if frame.empty:\n",
    "            result_set[\"no_matches\"].append(frame)\n",
    "        else:          \n",
    "            source_row = pd.DataFrame(data=[row]*len(frame))\n",
    "            matches = pd.merge(source_row, frame, how='outer', left_index=True, right_index=True)\n",
    "           \n",
    "            if name_field:\n",
    "                matches[\"EDIT_DISTANCE\"] = matches[[name_field,\"BOREHOLE_NAME\"]].apply(lambda x: edit_distance(str(x[0]).lower(),str(x[1]).lower(), fn), axis = 1)\n",
    "            matches['CONFIRM'] = ''\n",
    "            \n",
    "            \n",
    "            exact_match = matches[matches[\"EDIT_DISTANCE\"] == 1]\n",
    "            if len(exact_match) == 1:\n",
    "                result_set[\"exact\"].append(exact_match)\n",
    "                \n",
    "            elif len(exact_match) > 1:\n",
    "                result_set[\"multiple\"].append(exact_match)\n",
    "            else:\n",
    "                if len(matches) == 1:\n",
    "                    result_set[\"fuzzy\"].append(matches)\n",
    "                else:\n",
    "                    result_set[\"multiple\"].append(matches)\n",
    "                \n",
    "              \n",
    "    return {key : pd.concat(result_set[key]) for key in result_set}"
   ]
  },
  {
   "cell_type": "code",
   "execution_count": null,
   "metadata": {
    "scrolled": true
   },
   "outputs": [],
   "source": [
    "for sheet in excel.sheet_names:\n",
    "    if sheet == 'GA':\n",
    "        continue\n",
    "    else:\n",
    "        output_path = \"OUTPUT_\"+sheet\n",
    "        if not os.path.exists(output_path):\n",
    "            os.makedirs(output_path)\n",
    "    parameters = [parameter for parameter in sheet_params if parameter['sheet_name'] == sheet]\n",
    "    if len(parameters) != 1:\n",
    "        print(print('No parameters found for worksheet \\'{0}\\'. Are you sure you set it up?'.format(sheet)))\n",
    "        continue\n",
    "\n",
    "    name_field = parameters[0]['name_field']\n",
    "    coords = parameters[0]['coords']\n",
    "    fn = parameters[0]['string_functions']\n",
    "    columns = [name_field] + coords\n",
    "    df = excel.parse(sheet)[columns]\n",
    "    results = process_data(df, coords, name_field, fn)\n",
    "\n",
    "    for key in results:\n",
    "        pathname = os.path.join(output_path, key.upper() + '.xlsx')\n",
    "        results[key].to_excel(pathname, index = False)"
   ]
  },
  {
   "cell_type": "code",
   "execution_count": null,
   "metadata": {
    "collapsed": true
   },
   "outputs": [],
   "source": []
  }
 ],
 "metadata": {
  "kernelspec": {
   "display_name": "Python 3",
   "language": "python",
   "name": "python3"
  },
  "language_info": {
   "codemirror_mode": {
    "name": "ipython",
    "version": 3
   },
   "file_extension": ".py",
   "mimetype": "text/x-python",
   "name": "python",
   "nbconvert_exporter": "python",
   "pygments_lexer": "ipython3",
   "version": "3.6.6"
  }
 },
 "nbformat": 4,
 "nbformat_minor": 2
}
